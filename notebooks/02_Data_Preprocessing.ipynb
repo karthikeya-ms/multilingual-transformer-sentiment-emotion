{
 "cells": [
  {
   "cell_type": "code",
   "execution_count": 4,
   "metadata": {},
   "outputs": [],
   "source": [
    "import pandas as pd\n",
    "import numpy as np\n",
    "from sklearn.model_selection import train_test_split\n",
    "from datasets import DatasetDict, Dataset\n",
    "from transformers import AutoTokenizer\n"
   ]
  },
  {
   "cell_type": "code",
   "execution_count": 5,
   "metadata": {},
   "outputs": [
    {
     "name": "stdout",
     "output_type": "stream",
     "text": [
      "Dataset({\n",
      "    features: ['text', 'source', 'language', 'label'],\n",
      "    num_rows: 270399\n",
      "})\n",
      "Dataset({\n",
      "    features: ['text', 'label', 'emotion'],\n",
      "    num_rows: 16000\n",
      "})\n"
     ]
    }
   ],
   "source": [
    "import pandas as pd\n",
    "from datasets import Dataset\n",
    "\n",
    "# Load your sentiment dataset again (assuming you saved it)\n",
    "sentiment_df = pd.read_csv(\"../data/sentiment_dataset.csv\")\n",
    "emotion_df = pd.read_csv(\"../data/emotion_dataset.csv\")\n",
    "\n",
    "# Convert sentiment DataFrame to Hugging Face Dataset\n",
    "sentiment_dataset_hf = Dataset.from_pandas(sentiment_df)\n",
    "\n",
    "# Convert emotion DataFrame to Hugging Face Dataset\n",
    "emotion_dataset_hf = Dataset.from_pandas(emotion_df)\n",
    "\n",
    "print(sentiment_dataset_hf)\n",
    "print(emotion_dataset_hf)\n",
    "\n",
    "\n"
   ]
  }
 ],
 "metadata": {
  "kernelspec": {
   "display_name": "multilingual-transformer-sentiment-emotion-5vIiU82Q-py3.12",
   "language": "python",
   "name": "python3"
  },
  "language_info": {
   "codemirror_mode": {
    "name": "ipython",
    "version": 3
   },
   "file_extension": ".py",
   "mimetype": "text/x-python",
   "name": "python",
   "nbconvert_exporter": "python",
   "pygments_lexer": "ipython3",
   "version": "3.12.2"
  }
 },
 "nbformat": 4,
 "nbformat_minor": 2
}
